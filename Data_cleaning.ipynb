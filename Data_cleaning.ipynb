{
 "cells": [
  {
   "cell_type": "code",
   "execution_count": 2,
   "metadata": {},
   "outputs": [],
   "source": [
    "import pandas as pd\n",
    "import numpy as np\n",
    "import matplotlib.pyplot as plt\n",
    "import re as re\n",
    "import glob\n",
    "from pathlib import Path"
   ]
  },
  {
   "cell_type": "code",
   "execution_count": 3,
   "metadata": {},
   "outputs": [],
   "source": [
    "pd.set_option('display.max_columns', None) \n",
    "pd.set_option('display.max_colwidth', None)\n",
    "pd.set_option('display.max_rows', 100)"
   ]
  },
  {
   "cell_type": "code",
   "execution_count": 6,
   "metadata": {},
   "outputs": [],
   "source": [
    "# p = Path(\"D:\\hospital dataset\\Doctors Hospitals Nurses Others\").glob('*.xlsx')\n",
    "# OUTPUT_DIR =Path(\"D:\\hospital dataset\\Doctors Hospitals Nurses Others\") / 'Output'\n",
    "# OUTPUT_DIR.mkdir(exist_ok=True)\n",
    "# df_list = []\n",
    "# OUTPUT_DIR"
   ]
  },
  {
   "cell_type": "code",
   "execution_count": 5,
   "metadata": {},
   "outputs": [],
   "source": [
    "ext=['xls','xlsx']\n",
    "for i in ext:\n",
    "    p = Path.cwd().glob('*.{}'.format(i))\n",
    "    OUTPUT_DIR =Path.cwd() / 'Output'\n",
    "    OUTPUT_DIR.mkdir(exist_ok=True)\n",
    "    for f in p:\n",
    "        data = pd.read_excel(f.name)\n",
    "        data.to_csv(OUTPUT_DIR / f.name.replace('.{}'.format(i),'.csv'), index=False)\n",
    "    # df_list = []\n",
    "    # OUTPUT_DIR\n"
   ]
  },
  {
   "cell_type": "code",
   "execution_count": 3,
   "metadata": {},
   "outputs": [
    {
     "data": {
      "text/plain": [
       "WindowsPath('d:/College/Sapio/MP Filter/MP2/main/Output/Output')"
      ]
     },
     "execution_count": 3,
     "metadata": {},
     "output_type": "execute_result"
    }
   ],
   "source": [
    "p = Path.cwd().glob('*.csv')\n",
    "OUTPUT_DIR =Path.cwd() / 'Output'\n",
    "OUTPUT_DIR.mkdir(exist_ok=True)\n",
    "df_list = []\n",
    "OUTPUT_DIR"
   ]
  },
  {
   "cell_type": "code",
   "execution_count": 4,
   "metadata": {},
   "outputs": [],
   "source": [
    "for f in p:\n",
    "    data = pd.read_excel(f.name)\n",
    "    data.to_csv(OUTPUT_DIR / f.name.replace('.xlsx', '.csv'), index=False)"
   ]
  },
  {
   "cell_type": "code",
   "execution_count": 4,
   "metadata": {},
   "outputs": [
    {
     "data": {
      "text/plain": [
       "[                Name  Email Address   City Or State  Phone  Address  \\\n",
       " 0       manish singh            NaN  Madhya Pradesh    NaN      NaN   \n",
       " 1       Manish Kabra            NaN  Madhya Pradesh    NaN      NaN   \n",
       " 2    manmohan jupall            NaN  Madhya Pradesh    NaN      NaN   \n",
       " 3    Manoharan subbi            NaN  Madhya Pradesh    NaN      NaN   \n",
       " 4      Manoj Panchal            NaN  Madhya Pradesh    NaN      NaN   \n",
       " ..               ...            ...             ...    ...      ...   \n",
       " 229  SAURABH TRIVEDI            NaN  Madhya Pradesh    NaN      NaN   \n",
       " 230   PRIYANK SAXENA            NaN  Madhya Pradesh    NaN      NaN   \n",
       " 231      SAYAN DATTA            NaN  Madhya Pradesh    NaN      NaN   \n",
       " 232  SRINIVASAN MOHA            NaN  Madhya Pradesh    NaN      NaN   \n",
       " 233  parikshit chopr            NaN  Madhya Pradesh    NaN      NaN   \n",
       " \n",
       "      Profession  Phone 2                      File  Company        Mobile  \\\n",
       " 0           NaN      NaN  Financial Industry 34844      NaN  9.879548e+09   \n",
       " 1           NaN      NaN  Financial Industry 34844      NaN  9.869015e+09   \n",
       " 2           NaN      NaN  Financial Industry 34844      NaN  9.948743e+09   \n",
       " 3           NaN      NaN  Financial Industry 34844      NaN  9.444983e+09   \n",
       " 4           NaN      NaN  Financial Industry 34844      NaN  9.427028e+09   \n",
       " ..          ...      ...                       ...      ...           ...   \n",
       " 229         NaN      NaN  Financial Industry 34844      NaN  9.321774e+09   \n",
       " 230         NaN      NaN  Financial Industry 34844      NaN  9.415790e+09   \n",
       " 231         NaN      NaN  Financial Industry 34844      NaN  9.022088e+09   \n",
       " 232         NaN      NaN  Financial Industry 34844      NaN  9.986006e+09   \n",
       " 233         NaN      NaN  Financial Industry 34844      NaN  9.811158e+09   \n",
       " \n",
       "      Pincode  Website  Category                 File.1  Email  Unnamed: 8  \\\n",
       " 0        NaN      NaN       NaN  FinancialAnalystsMain    NaN         NaN   \n",
       " 1        NaN      NaN       NaN  FinancialAnalystsMain    NaN         NaN   \n",
       " 2        NaN      NaN       NaN  FinancialAnalystsMain    NaN         NaN   \n",
       " 3        NaN      NaN       NaN  FinancialAnalystsMain    NaN         NaN   \n",
       " 4        NaN      NaN       NaN  FinancialAnalystsMain    NaN         NaN   \n",
       " ..       ...      ...       ...                    ...    ...         ...   \n",
       " 229      NaN      NaN       NaN  FinancialAnalystsMain    NaN         NaN   \n",
       " 230      NaN      NaN       NaN  FinancialAnalystsMain    NaN         NaN   \n",
       " 231      NaN      NaN       NaN  FinancialAnalystsMain    NaN         NaN   \n",
       " 232      NaN      NaN       NaN  FinancialAnalystsMain    NaN         NaN   \n",
       " 233      NaN      NaN       NaN  FinancialAnalystsMain    NaN         NaN   \n",
       " \n",
       "      Unnamed: 9  Unnamed: 10  Slno  First_Name  Second_Name  \\\n",
       " 0           NaN          NaN   NaN         NaN          NaN   \n",
       " 1           NaN          NaN   NaN         NaN          NaN   \n",
       " 2           NaN          NaN   NaN         NaN          NaN   \n",
       " 3           NaN          NaN   NaN         NaN          NaN   \n",
       " 4           NaN          NaN   NaN         NaN          NaN   \n",
       " ..          ...          ...   ...         ...          ...   \n",
       " 229         NaN          NaN   NaN         NaN          NaN   \n",
       " 230         NaN          NaN   NaN         NaN          NaN   \n",
       " 231         NaN          NaN   NaN         NaN          NaN   \n",
       " 232         NaN          NaN   NaN         NaN          NaN   \n",
       " 233         NaN          NaN   NaN         NaN          NaN   \n",
       " \n",
       "                                        Company.1  Address1  Address2  \\\n",
       " 0                                 Allahabad Bank       NaN       NaN   \n",
       " 1    Shri Balaji Urban Co-operative Bank Limited       NaN       NaN   \n",
       " 2                 Cent Bank Home Finance Limited       NaN       NaN   \n",
       " 3                    Swastika Investmart Limited       NaN       NaN   \n",
       " 4              Premium Global Securities Limited       NaN       NaN   \n",
       " ..                                           ...       ...       ...   \n",
       " 229                         Punjab National Bank       NaN       NaN   \n",
       " 230          Guna Nagarik Sahakari Bank Maryadit       NaN       NaN   \n",
       " 231          Bhopal Nagarik Sahakaribank Limited       NaN       NaN   \n",
       " 232           Arihant Financial Services Limited       NaN       NaN   \n",
       " 233    Raga Securities & Finance Private Limited       NaN       NaN   \n",
       " \n",
       "      Bill_Address3  Pin_Code  Telephone_No  Email Id              Designation  \\\n",
       " 0              NaN       NaN           NaN       NaN                  Manager   \n",
       " 1              NaN       NaN           NaN       NaN  Chief Executive Officer   \n",
       " 2              NaN       NaN           NaN       NaN        Company Secretary   \n",
       " 3              NaN       NaN           NaN       NaN         Head - Commodity   \n",
       " 4              NaN       NaN           NaN       NaN      Whole Time Director   \n",
       " ..             ...       ...           ...       ...                      ...   \n",
       " 229            NaN       NaN           NaN       NaN      Senior Manager - IT   \n",
       " 230            NaN       NaN           NaN       NaN             Chair Person   \n",
       " 231            NaN       NaN           NaN       NaN                  Manager   \n",
       " 232            NaN       NaN           NaN       NaN        Managing Director   \n",
       " 233            NaN       NaN           NaN       NaN                 Director   \n",
       " \n",
       "     Industrytype  Industry  Industery       file  \n",
       " 0      Financial       NaN        NaN  DomainsMP  \n",
       " 1      Financial       NaN        NaN  DomainsMP  \n",
       " 2      Financial       NaN        NaN  DomainsMP  \n",
       " 3      Financial       NaN        NaN  DomainsMP  \n",
       " 4      Financial       NaN        NaN  DomainsMP  \n",
       " ..           ...       ...        ...        ...  \n",
       " 229    Financial       NaN        NaN  DomainsMP  \n",
       " 230    Financial       NaN        NaN  DomainsMP  \n",
       " 231    Financial       NaN        NaN  DomainsMP  \n",
       " 232    Financial       NaN        NaN  DomainsMP  \n",
       " 233    Financial       NaN        NaN  DomainsMP  \n",
       " \n",
       " [234 rows x 33 columns]]"
      ]
     },
     "execution_count": 4,
     "metadata": {},
     "output_type": "execute_result"
    }
   ],
   "source": [
    "for f in p:\n",
    "    data = pd.read_csv(f.name)\n",
    "    data['file'] = f.stem\n",
    "    # data.rename(columns=names, inplace=True)\n",
    "    df_list.append(data)\n",
    "df_list"
   ]
  },
  {
   "cell_type": "code",
   "execution_count": 5,
   "metadata": {},
   "outputs": [],
   "source": [
    "data = pd.concat(df_list, ignore_index=True)\n",
    "data.columns = data.columns.str.title()"
   ]
  },
  {
   "cell_type": "code",
   "execution_count": 5,
   "metadata": {},
   "outputs": [
    {
     "data": {
      "text/plain": [
       "(234, 33)"
      ]
     },
     "execution_count": 5,
     "metadata": {},
     "output_type": "execute_result"
    }
   ],
   "source": [
    "data.shape"
   ]
  },
  {
   "cell_type": "markdown",
   "metadata": {},
   "source": [
    "Spliting Dataset"
   ]
  },
  {
   "cell_type": "code",
   "execution_count": 124,
   "metadata": {},
   "outputs": [],
   "source": [
    "df_1=data.iloc[:700000,:]\n",
    "df_2=data.iloc[700000:1400000,:]\n",
    "df_3=data.iloc[1400000:,:]"
   ]
  },
  {
   "cell_type": "code",
   "execution_count": 128,
   "metadata": {},
   "outputs": [
    {
     "name": "stdout",
     "output_type": "stream",
     "text": [
      "(700000, 84) (700000, 84) (554032, 84)\n"
     ]
    }
   ],
   "source": [
    "print (df_1.shape,df_2.shape,df_3.shape)"
   ]
  },
  {
   "cell_type": "markdown",
   "metadata": {},
   "source": [
    "Output to csv file"
   ]
  },
  {
   "cell_type": "code",
   "execution_count": 129,
   "metadata": {},
   "outputs": [],
   "source": [
    "df_1.to_csv(f\"{OUTPUT_DIR}/Doctors1.csv\",index=False)\n",
    "df_2.to_csv(f\"{OUTPUT_DIR}/Doctors2.csv\",index=False)\n",
    "df_3.to_csv(f\"{OUTPUT_DIR}/Doctors3.csv\",index=False)"
   ]
  },
  {
   "cell_type": "code",
   "execution_count": 70,
   "metadata": {},
   "outputs": [],
   "source": [
    "data.to_csv(f\"{OUTPUT_DIR}/FinalDomainsMP.csv\",index=False)\n"
   ]
  },
  {
   "cell_type": "code",
   "execution_count": 83,
   "metadata": {},
   "outputs": [],
   "source": [
    "data.to_csv(f\"{OUTPUT_DIR}/Schemas_MP.csv\",index=False)"
   ]
  },
  {
   "cell_type": "code",
   "execution_count": 4,
   "metadata": {},
   "outputs": [],
   "source": [
    "data = pd.read_csv('transformed.csv')"
   ]
  },
  {
   "cell_type": "code",
   "execution_count": 6,
   "metadata": {},
   "outputs": [],
   "source": [
    "data.dropna(inplace=True, how=\"all\", axis=1)"
   ]
  },
  {
   "cell_type": "code",
   "execution_count": 7,
   "metadata": {},
   "outputs": [
    {
     "data": {
      "text/plain": [
       "(15000, 18)"
      ]
     },
     "execution_count": 7,
     "metadata": {},
     "output_type": "execute_result"
    }
   ],
   "source": [
    "data.shape"
   ]
  },
  {
   "cell_type": "code",
   "execution_count": 82,
   "metadata": {},
   "outputs": [],
   "source": [
    "data.columns = data.columns.str.replace(' ','_')"
   ]
  },
  {
   "cell_type": "code",
   "execution_count": 8,
   "metadata": {},
   "outputs": [
    {
     "data": {
      "text/plain": [
       "152082"
      ]
     },
     "execution_count": 8,
     "metadata": {},
     "output_type": "execute_result"
    }
   ],
   "source": [
    "count = data.shape[0]\n",
    "count"
   ]
  },
  {
   "cell_type": "code",
   "execution_count": 9,
   "metadata": {},
   "outputs": [
    {
     "data": {
      "text/plain": [
       "2"
      ]
     },
     "execution_count": 9,
     "metadata": {},
     "output_type": "execute_result"
    }
   ],
   "source": [
    "import math\n",
    "number_of_files = math.ceil(count/100000)\n",
    "number_of_files"
   ]
  },
  {
   "cell_type": "code",
   "execution_count": 10,
   "metadata": {},
   "outputs": [],
   "source": [
    "for i in range(number_of_files):\n",
    "    df_1=data.iloc[i*100000:(i+1)*100000,:]\n",
    "    df_1.to_csv(f\"{OUTPUT_DIR}/Electricals & electronics{i+1}.csv\",index=False)"
   ]
  },
  {
   "cell_type": "markdown",
   "metadata": {},
   "source": [
    "Reading data file"
   ]
  },
  {
   "cell_type": "code",
   "execution_count": 128,
   "metadata": {},
   "outputs": [],
   "source": [
    "data=pd.read_csv(\"Vodafone3g.csv\" ,low_memory= False)"
   ]
  },
  {
   "cell_type": "markdown",
   "metadata": {},
   "source": [
    "Printing row data from column"
   ]
  },
  {
   "cell_type": "code",
   "execution_count": null,
   "metadata": {},
   "outputs": [],
   "source": [
    "for i in range(len(data.iloc[:,7])):\n",
    "    x=data.iloc[i,7]\n",
    "    \n",
    "    if pd.isna(x):\n",
    "        continue\n",
    "    else:\n",
    "        print(i)\n",
    "        print(x)\n",
    "        \n",
    "    \n",
    "# data.iloc[:,33]\n"
   ]
  },
  {
   "cell_type": "code",
   "execution_count": 7,
   "metadata": {},
   "outputs": [],
   "source": [
    "data = pd.read_csv(r\"D:\\College\\Sapio\\smartcop\\Copy of CELL ID\\Airtel\\Output\\4g\\Output\\Airtel4g.csv\" ,low_memory= False)"
   ]
  },
  {
   "cell_type": "markdown",
   "metadata": {},
   "source": [
    "Column index with column name dict"
   ]
  },
  {
   "cell_type": "code",
   "execution_count": 59,
   "metadata": {},
   "outputs": [
    {
     "name": "stdout",
     "output_type": "stream",
     "text": [
      "{0: '_id', 1: 'address', 2: 'date_joined', 3: 'designation', 4: 'email', 5: 'id', 6: 'industry_type', 7: 'is_admin', 8: 'last_login', 9: 'mobile_number', 10: 'name', 11: 'organisation_name', 12: 'password', 13: 'permission', 14: 'pincode', 15: 'security_question', 16: 'security_question_answer', 17: 'state', 18: 'unit_size'}\n"
     ]
    }
   ],
   "source": [
    "x={}\n",
    "for i in range(len(data.columns)):\n",
    "    x[i]=data.columns[i]\n",
    "print(x)"
   ]
  },
  {
   "cell_type": "code",
   "execution_count": 17,
   "metadata": {},
   "outputs": [],
   "source": [
    "# data.iloc[:,15]=data.iloc[:,15].astype(str).apply(lambda x: '*'.join(x.dropna().astype(str).values))\n",
    "# +data.iloc[:,38].astype(str)\n",
    "\n",
    "for i in range(len(data.iloc[:,23])):\n",
    "    x=data.iloc[i,23]\n",
    "    \n",
    "    if pd.isna(x):\n",
    "        continue\n",
    "    else:\n",
    "        data.iloc[i,3]=x\n",
    "data = data.iloc[:, [j for j, c in enumerate(data.columns) if j != 23]]\n",
    "# data.drop(data.columns[37],axis=1,inplace=True)"
   ]
  },
  {
   "cell_type": "code",
   "execution_count": 27,
   "metadata": {},
   "outputs": [],
   "source": [
    "df1=pd.DataFrame()"
   ]
  },
  {
   "cell_type": "code",
   "execution_count": 18,
   "metadata": {},
   "outputs": [
    {
     "data": {
      "text/plain": [
       "nan"
      ]
     },
     "execution_count": 18,
     "metadata": {},
     "output_type": "execute_result"
    }
   ],
   "source": [
    "data.iloc[2000000,94]"
   ]
  },
  {
   "cell_type": "code",
   "execution_count": 29,
   "metadata": {},
   "outputs": [],
   "source": [
    "df1 = data[data['City Or State'] == 'Madhya Pradesh']"
   ]
  },
  {
   "cell_type": "code",
   "execution_count": 30,
   "metadata": {},
   "outputs": [
    {
     "data": {
      "text/plain": [
       "(234, 32)"
      ]
     },
     "execution_count": 30,
     "metadata": {},
     "output_type": "execute_result"
    }
   ],
   "source": [
    "df1.shape"
   ]
  },
  {
   "cell_type": "code",
   "execution_count": 32,
   "metadata": {},
   "outputs": [],
   "source": [
    "df1.to_csv(f\"{OUTPUT_DIR}/DomainsMP.csv\",index=False)"
   ]
  },
  {
   "cell_type": "code",
   "execution_count": 33,
   "metadata": {},
   "outputs": [],
   "source": [
    "data.to_csv(f\"{OUTPUT_DIR}/Domains.csv\",index=False)"
   ]
  },
  {
   "cell_type": "code",
   "execution_count": 10,
   "metadata": {},
   "outputs": [],
   "source": [
    "arr=[]\n",
    "arr=data['State'].unique().tolist()"
   ]
  },
  {
   "cell_type": "code",
   "execution_count": 15,
   "metadata": {},
   "outputs": [],
   "source": [
    "df1 = pd.DataFrame"
   ]
  },
  {
   "cell_type": "code",
   "execution_count": null,
   "metadata": {},
   "outputs": [],
   "source": [
    "for i in range(len(data)):\n",
    "    df1 = data[data['State'] == 'Madhya Pradesh']"
   ]
  },
  {
   "cell_type": "code",
   "execution_count": 8,
   "metadata": {},
   "outputs": [],
   "source": [
    "df1 = data[data['state'] == 'Madhya Pradesh']"
   ]
  },
  {
   "cell_type": "code",
   "execution_count": 10,
   "metadata": {},
   "outputs": [],
   "source": [
    "df1.to_csv('transformed-MP.csv',index=False)"
   ]
  },
  {
   "cell_type": "code",
   "execution_count": 11,
   "metadata": {},
   "outputs": [
    {
     "data": {
      "text/plain": [
       "(395, 18)"
      ]
     },
     "execution_count": 11,
     "metadata": {},
     "output_type": "execute_result"
    }
   ],
   "source": [
    "df1.shape"
   ]
  },
  {
   "cell_type": "code",
   "execution_count": null,
   "metadata": {},
   "outputs": [],
   "source": []
  },
  {
   "cell_type": "code",
   "execution_count": 8,
   "metadata": {},
   "outputs": [
    {
     "name": "stdout",
     "output_type": "stream",
     "text": [
      "{0: ' BALAKRISHNA VARNA', 1: 'bbkvarna@gmail.com', 2: 'Bengaluru/ Bangalore', 3: '-9844489135', 4: ' # 908, 1st Floor, 11TH B Cross, Vyalikaval, Malleshwaram', 5: 'CA (Chartered Accountant)', 6: nan, 7: 'CA Database 15333', 8: nan, 9: nan, 10: nan, 11: nan, 12: nan, 13: nan, 14: 'CA_Database', 15: nan, 16: nan, 17: nan, 18: nan, 19: nan, 20: nan, 21: nan, 22: nan, 23: nan, 24: nan, 25: nan, 26: nan, 27: nan, 28: nan, 29: nan, 30: nan, 31: nan, 32: nan, 33: nan, 34: nan, 35: nan, 36: nan}\n"
     ]
    }
   ],
   "source": [
    "x={}\n",
    "for i in range(len(data.columns)):\n",
    "    x[i]=data.iloc[0,i]\n",
    "print(x)"
   ]
  },
  {
   "cell_type": "markdown",
   "metadata": {},
   "source": [
    "Combining 2 mobile columns and dropping duplicate mobile column"
   ]
  },
  {
   "cell_type": "code",
   "execution_count": 8,
   "metadata": {},
   "outputs": [],
   "source": [
    "for i in range(1,4):\n",
    "    data = data.iloc[:, [j for j, c in enumerate(data.columns) if j != 26]]\n"
   ]
  },
  {
   "cell_type": "markdown",
   "metadata": {},
   "source": [
    "Merging repeated columns"
   ]
  },
  {
   "cell_type": "code",
   "execution_count": 124,
   "metadata": {},
   "outputs": [],
   "source": [
    "for j in range(len(index_list)):\n",
    "    for i in range(len(data.iloc[:,index_list[j]])):\n",
    "        x=data.iloc[i,index_list[j]]\n",
    "    \n",
    "        if pd.isna(x):\n",
    "            continue\n",
    "        else:\n",
    "            data.iloc[i,list1[j]]=x"
   ]
  },
  {
   "cell_type": "code",
   "execution_count": 15,
   "metadata": {},
   "outputs": [],
   "source": [
    "data = data.iloc[:, [j for j, c in enumerate(data.columns) if j != 30]]"
   ]
  },
  {
   "cell_type": "markdown",
   "metadata": {},
   "source": [
    "regex column list"
   ]
  },
  {
   "cell_type": "code",
   "execution_count": 120,
   "metadata": {},
   "outputs": [
    {
     "data": {
      "text/plain": [
       "[25, 28, 34, 46, 61, 64, 65, 67, 69]"
      ]
     },
     "execution_count": 120,
     "metadata": {},
     "output_type": "execute_result"
    }
   ],
   "source": [
    "index_list"
   ]
  },
  {
   "cell_type": "code",
   "execution_count": 112,
   "metadata": {},
   "outputs": [],
   "source": [
    "index_list=[]\n",
    "sec_list=[]\n",
    "for i in range(len(x)):\n",
    "    if re.search('\\.\\d',x[i]):\n",
    "        index_list.append(i)\n",
    "        z=str.split(x[i],sep='.')\n",
    "        sec_list.append(z[0])\n",
    "        \n",
    "\n",
    "\n",
    "# re.search('\\w\\.\\d',(\"Mobile2.1\",\"Mobile\",\"city.1\"))"
   ]
  },
  {
   "cell_type": "code",
   "execution_count": null,
   "metadata": {},
   "outputs": [],
   "source": [
    "sec_list"
   ]
  },
  {
   "cell_type": "markdown",
   "metadata": {},
   "source": [
    "FINDING original index"
   ]
  },
  {
   "cell_type": "code",
   "execution_count": null,
   "metadata": {},
   "outputs": [],
   "source": [
    "list1=[]\n",
    "for i in sec_list:\n",
    "    for j in range(len(data.columns)):\n",
    "        if i == data.columns[j]:\n",
    "            print(data.columns[j])\n",
    "            # print(j)\n",
    "            list1.append(data.index[j])\n",
    "            "
   ]
  },
  {
   "cell_type": "code",
   "execution_count": 122,
   "metadata": {},
   "outputs": [
    {
     "data": {
      "text/plain": [
       "[25, 28, 34, 46, 61, 64, 65, 67, 69]"
      ]
     },
     "execution_count": 122,
     "metadata": {},
     "output_type": "execute_result"
    }
   ],
   "source": [
    "index_list"
   ]
  },
  {
   "cell_type": "code",
   "execution_count": 123,
   "metadata": {},
   "outputs": [
    {
     "data": {
      "text/plain": [
       "[3, 6, 10, 21, 49, 32, 29, 9, 35]"
      ]
     },
     "execution_count": 123,
     "metadata": {},
     "output_type": "execute_result"
    }
   ],
   "source": [
    "list1"
   ]
  },
  {
   "cell_type": "code",
   "execution_count": 197,
   "metadata": {},
   "outputs": [
    {
     "name": "stdout",
     "output_type": "stream",
     "text": [
      "nan\n"
     ]
    }
   ],
   "source": [
    "print(data.iloc[6713,0])\n"
   ]
  }
 ],
 "metadata": {
  "interpreter": {
   "hash": "4d536800d27c51602b26d7e23a7b347bd37d1d65ee7fdd104b4efc2c92c4d087"
  },
  "kernelspec": {
   "display_name": "Python 3.10.4 64-bit",
   "language": "python",
   "name": "python3"
  },
  "language_info": {
   "codemirror_mode": {
    "name": "ipython",
    "version": 3
   },
   "file_extension": ".py",
   "mimetype": "text/x-python",
   "name": "python",
   "nbconvert_exporter": "python",
   "pygments_lexer": "ipython3",
   "version": "3.10.4"
  },
  "orig_nbformat": 4
 },
 "nbformat": 4,
 "nbformat_minor": 2
}
